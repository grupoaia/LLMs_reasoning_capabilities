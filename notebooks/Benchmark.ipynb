{
 "cells": [
  {
   "cell_type": "code",
   "execution_count": 1,
   "metadata": {},
   "outputs": [],
   "source": [
    "%load_ext autoreload\n",
    "%autoreload 2"
   ]
  },
  {
   "cell_type": "code",
   "execution_count": 2,
   "metadata": {},
   "outputs": [],
   "source": [
    "import os\n",
    "import pandas as pd\n",
    "from tqdm import tqdm\n",
    "from langchain_openai import ChatOpenAI\n",
    "from langchain.cache import SQLiteCache\n",
    "from langchain.globals import set_llm_cache\n",
    "from langchain_core.prompts import ChatPromptTemplate"
   ]
  },
  {
   "cell_type": "code",
   "execution_count": 3,
   "metadata": {},
   "outputs": [],
   "source": [
    "os.chdir(\"..\")"
   ]
  },
  {
   "cell_type": "code",
   "execution_count": 4,
   "metadata": {},
   "outputs": [],
   "source": [
    "from src.tools import python_script_sync, problem_solver_sync"
   ]
  },
  {
   "cell_type": "markdown",
   "metadata": {},
   "source": [
    "## Read GSM8k dataset"
   ]
  },
  {
   "cell_type": "code",
   "execution_count": 5,
   "metadata": {},
   "outputs": [],
   "source": [
    "set_llm_cache(SQLiteCache(database_path=\".langchain.db\"))"
   ]
  },
  {
   "cell_type": "code",
   "execution_count": 6,
   "metadata": {},
   "outputs": [
    {
     "name": "stderr",
     "output_type": "stream",
     "text": [
      "c:\\Users\\DanielGutiérrezMeyer\\Personal\\First_Medium_post\\LLMs_reasoning_capabilities\\.venv\\lib\\site-packages\\tqdm\\auto.py:21: TqdmWarning: IProgress not found. Please update jupyter and ipywidgets. See https://ipywidgets.readthedocs.io/en/stable/user_install.html\n",
      "  from .autonotebook import tqdm as notebook_tqdm\n"
     ]
    }
   ],
   "source": [
    "splits = {'train': 'main/train-00000-of-00001.parquet', 'test': 'main/test-00000-of-00001.parquet'}\n",
    "df = pd.read_parquet(\"hf://datasets/openai/gsm8k/\" + splits[\"train\"])\n",
    "df[\"numeric_response\"] = df[\"answer\"].map(lambda x: float(x[x.find(\"### \") + len(\"### \"):].replace(\",\", \"\").strip()))"
   ]
  },
  {
   "cell_type": "markdown",
   "metadata": {},
   "source": [
    "## Evaluation on GSM8K\n",
    "### LLM alone"
   ]
  },
  {
   "cell_type": "code",
   "execution_count": 7,
   "metadata": {},
   "outputs": [],
   "source": [
    "system = \"\"\"\n",
    "Given a response from a problem you must split it into response and justification and return only the response.\\\n",
    "Response should not include units or the word Response, just numbers.\\\n",
    "\n",
    "Example:\\\n",
    "Problem: John went to the supermarket to buy 2 apples, 3 oranges and one bannana. Price per unit is the following:\\\n",
    "Bannana: 3$, apple 5$, oranges 7$.\\\n",
    "\n",
    "Problem solution:\\\n",
    "John will pay 34$ for 2 apples, 3 oranges and one bannana.\\\n",
    "\n",
    "Response:\\\n",
    "34\n",
    "\"\"\"\n",
    "\n",
    "SOL_PROMPT = ChatPromptTemplate.from_messages(\n",
    "    [\n",
    "        (\"system\", system),\n",
    "        (\"human\", \"Problem:\\n{problem}\\n\\nProblem solution:\\n{sol}\"),\n",
    "    ]\n",
    ")\n",
    "\n",
    "llm = ChatOpenAI(model=\"gpt-4o-mini\")\n",
    "chain = SOL_PROMPT | llm"
   ]
  },
  {
   "cell_type": "code",
   "execution_count": 8,
   "metadata": {},
   "outputs": [
    {
     "name": "stderr",
     "output_type": "stream",
     "text": [
      "  0%|          | 15/7473 [00:00<02:41, 46.23it/s]"
     ]
    },
    {
     "name": "stdout",
     "output_type": "stream",
     "text": [
      "1.0\n"
     ]
    },
    {
     "name": "stderr",
     "output_type": "stream",
     "text": [
      " 14%|█▍        | 1030/7473 [00:05<00:26, 243.65it/s]"
     ]
    },
    {
     "name": "stdout",
     "output_type": "stream",
     "text": [
      "0.9170829170829171\n"
     ]
    },
    {
     "name": "stderr",
     "output_type": "stream",
     "text": [
      " 27%|██▋       | 2049/7473 [00:08<00:16, 329.46it/s]"
     ]
    },
    {
     "name": "stdout",
     "output_type": "stream",
     "text": [
      "0.9240379810094953\n"
     ]
    },
    {
     "name": "stderr",
     "output_type": "stream",
     "text": [
      " 41%|████      | 3047/7473 [00:12<00:15, 288.46it/s]"
     ]
    },
    {
     "name": "stdout",
     "output_type": "stream",
     "text": [
      "0.9253582139286904\n"
     ]
    },
    {
     "name": "stderr",
     "output_type": "stream",
     "text": [
      " 54%|█████▍    | 4031/7473 [00:15<00:14, 242.77it/s]"
     ]
    },
    {
     "name": "stdout",
     "output_type": "stream",
     "text": [
      "0.9280179955011247\n"
     ]
    },
    {
     "name": "stderr",
     "output_type": "stream",
     "text": [
      " 67%|██████▋   | 5031/7473 [00:19<00:09, 256.23it/s]"
     ]
    },
    {
     "name": "stdout",
     "output_type": "stream",
     "text": [
      "0.9254149170165967\n"
     ]
    },
    {
     "name": "stderr",
     "output_type": "stream",
     "text": [
      " 81%|████████  | 6023/7473 [00:23<00:05, 282.71it/s]"
     ]
    },
    {
     "name": "stdout",
     "output_type": "stream",
     "text": [
      "0.9246792201299784\n"
     ]
    },
    {
     "name": "stderr",
     "output_type": "stream",
     "text": [
      " 94%|█████████▍| 7034/7473 [00:26<00:01, 256.80it/s]"
     ]
    },
    {
     "name": "stdout",
     "output_type": "stream",
     "text": [
      "0.9244393658048851\n"
     ]
    },
    {
     "name": "stderr",
     "output_type": "stream",
     "text": [
      "100%|██████████| 7473/7473 [00:28<00:00, 264.41it/s]\n"
     ]
    }
   ],
   "source": [
    "responses = []\n",
    "failures = {}\n",
    "for i in tqdm(range(len(df))):\n",
    "    question = df.question.iloc[i]\n",
    "    res = llm.invoke(question).content\n",
    "    \n",
    "    try:\n",
    "        response = chain.invoke({\"problem\":question, \"sol\":res}).content\n",
    "        if \",\" in response:\n",
    "            response = sum([float(v.strip()) for v in response.split(\",\")])\n",
    "        else:\n",
    "            response = float(response)\n",
    "    except Exception as e:\n",
    "        failures[i] = {\"error\":e, \"response\":response}\n",
    "        response = None\n",
    "    responses.append(response)\n",
    "    if i%1000 == 0:\n",
    "        aux = df.iloc[0:len(responses)].copy()\n",
    "        aux[\"llm_response\"] = responses\n",
    "        aux[\"check\"] = aux.numeric_response == aux.llm_response\n",
    "        print(aux.check.sum()/len(responses))\n",
    "df[\"llm_response\"] = responses"
   ]
  },
  {
   "cell_type": "code",
   "execution_count": 9,
   "metadata": {},
   "outputs": [
    {
     "data": {
      "text/plain": [
       "(25, 25)"
      ]
     },
     "execution_count": 9,
     "metadata": {},
     "output_type": "execute_result"
    }
   ],
   "source": [
    "errors = []\n",
    "error_responses = []\n",
    "for iteration, error_dict in failures.items():\n",
    "    errors.append(error_dict[\"error\"])\n",
    "    error_responses.append(error_dict[\"response\"])\n",
    "len(set(errors)), len(set(error_responses))"
   ]
  },
  {
   "cell_type": "code",
   "execution_count": 10,
   "metadata": {},
   "outputs": [
    {
     "data": {
      "text/plain": [
       "{ValueError(\"could not convert string to float: '07:30'\"),\n",
       " ValueError(\"could not convert string to float: '10:00'\"),\n",
       " ValueError(\"could not convert string to float: '120 200'\"),\n",
       " ValueError(\"could not convert string to float: '15 + x'\"),\n",
       " ValueError(\"could not convert string to float: '15n'\"),\n",
       " ValueError(\"could not convert string to float: '2/3'\"),\n",
       " ValueError(\"could not convert string to float: '20l + 32'\"),\n",
       " ValueError(\"could not convert string to float: '23e'\"),\n",
       " ValueError(\"could not convert string to float: '2:00'\"),\n",
       " ValueError(\"could not convert string to float: '2√11'\"),\n",
       " ValueError(\"could not convert string to float: '3 to 47'\"),\n",
       " ValueError(\"could not convert string to float: '4 18'\"),\n",
       " ValueError(\"could not convert string to float: '4/3'\"),\n",
       " ValueError(\"could not convert string to float: '40 - 2S'\"),\n",
       " ValueError(\"could not convert string to float: '5:00'\"),\n",
       " ValueError(\"could not convert string to float: '5:45'\"),\n",
       " ValueError(\"could not convert string to float: '6/19'\"),\n",
       " ValueError(\"could not convert string to float: '66 - 17n'\"),\n",
       " ValueError(\"could not convert string to float: '7:00'\"),\n",
       " ValueError(\"could not convert string to float: 'E - 40'\"),\n",
       " ValueError(\"could not convert string to float: 'T - 2'\"),\n",
       " ValueError(\"could not convert string to float: '\\\\\\\\(\\\\\\\\frac{249 - 3L}{4}\\\\\\\\)'\"),\n",
       " ValueError(\"could not convert string to float: '\\\\\\\\(\\\\\\\\frac{2}{3}(x + 13)\\\\\\\\)'\"),\n",
       " ValueError(\"could not convert string to float: 'x + 100'\"),\n",
       " ValueError(\"could not convert string to float: 'y/2'\")}"
      ]
     },
     "execution_count": 10,
     "metadata": {},
     "output_type": "execute_result"
    }
   ],
   "source": [
    "set(errors)"
   ]
  },
  {
   "cell_type": "code",
   "execution_count": 11,
   "metadata": {},
   "outputs": [
    {
     "data": {
      "text/plain": [
       "0.3345376689415228"
      ]
     },
     "execution_count": 11,
     "metadata": {},
     "output_type": "execute_result"
    }
   ],
   "source": [
    "100 * len(set(errors)) / len(df)"
   ]
  },
  {
   "cell_type": "markdown",
   "metadata": {},
   "source": [
    "### Solving task by task"
   ]
  },
  {
   "cell_type": "code",
   "execution_count": 12,
   "metadata": {},
   "outputs": [
    {
     "name": "stderr",
     "output_type": "stream",
     "text": [
      "  0%|          | 4/7473 [00:00<07:51, 15.85it/s]"
     ]
    },
    {
     "name": "stdout",
     "output_type": "stream",
     "text": [
      "1.0\n"
     ]
    },
    {
     "name": "stderr",
     "output_type": "stream",
     "text": [
      " 13%|█▎        | 1003/7473 [00:57<07:43, 13.97it/s]"
     ]
    },
    {
     "name": "stdout",
     "output_type": "stream",
     "text": [
      "0.7902097902097902\n"
     ]
    },
    {
     "name": "stderr",
     "output_type": "stream",
     "text": [
      " 27%|██▋       | 2005/7473 [01:45<03:44, 24.39it/s]"
     ]
    },
    {
     "name": "stdout",
     "output_type": "stream",
     "text": [
      "0.7981009495252374\n"
     ]
    },
    {
     "name": "stderr",
     "output_type": "stream",
     "text": [
      " 40%|████      | 3005/7473 [02:35<04:17, 17.38it/s]"
     ]
    },
    {
     "name": "stdout",
     "output_type": "stream",
     "text": [
      "0.8010663112295902\n"
     ]
    },
    {
     "name": "stderr",
     "output_type": "stream",
     "text": [
      " 54%|█████▎    | 4005/7473 [03:22<02:34, 22.49it/s]"
     ]
    },
    {
     "name": "stdout",
     "output_type": "stream",
     "text": [
      "0.8070482379405148\n"
     ]
    },
    {
     "name": "stderr",
     "output_type": "stream",
     "text": [
      " 67%|██████▋   | 5003/7473 [04:25<02:31, 16.30it/s]"
     ]
    },
    {
     "name": "stdout",
     "output_type": "stream",
     "text": [
      "0.8032393521295741\n"
     ]
    },
    {
     "name": "stderr",
     "output_type": "stream",
     "text": [
      " 80%|████████  | 6004/7473 [05:27<01:12, 20.26it/s]"
     ]
    },
    {
     "name": "stdout",
     "output_type": "stream",
     "text": [
      "0.8051991334777537\n"
     ]
    },
    {
     "name": "stderr",
     "output_type": "stream",
     "text": [
      " 94%|█████████▎| 7004/7473 [06:24<00:32, 14.45it/s]"
     ]
    },
    {
     "name": "stdout",
     "output_type": "stream",
     "text": [
      "0.8024567918868734\n"
     ]
    },
    {
     "name": "stderr",
     "output_type": "stream",
     "text": [
      "100%|██████████| 7473/7473 [06:48<00:00, 18.29it/s]\n"
     ]
    }
   ],
   "source": [
    "responses = []\n",
    "failures = {}\n",
    "for i in tqdm(range(len(df))):\n",
    "    question = df.question.iloc[i]\n",
    "    res = problem_solver_sync(question)\n",
    "    \n",
    "    try:\n",
    "        response = chain.invoke({\"problem\":question, \"sol\":res}).content\n",
    "        if \",\" in response:\n",
    "            response = sum([float(v.strip()) for v in response.split(\",\")])\n",
    "        elif \":\" in response:\n",
    "            response = float(response.split(\":\")[-1].strip())\n",
    "        elif \"=\" in response:\n",
    "            response = float(response.split(\"=\")[-1].strip())\n",
    "        else:\n",
    "            response = float(response)\n",
    "    except Exception as e:\n",
    "        failures[i] = {\"error\":e, \"response\":response}\n",
    "        response = None\n",
    "    responses.append(response)\n",
    "    if i%1000 == 0:\n",
    "        aux = df.iloc[0:len(responses)].copy()\n",
    "        aux[\"CoT_response\"] = responses\n",
    "        aux[\"check\"] = aux.numeric_response == aux.CoT_response\n",
    "        print(aux.check.sum()/len(responses))\n",
    "df[\"CoT_response\"] = responses"
   ]
  },
  {
   "cell_type": "code",
   "execution_count": 13,
   "metadata": {},
   "outputs": [
    {
     "data": {
      "text/plain": [
       "(16, 16)"
      ]
     },
     "execution_count": 13,
     "metadata": {},
     "output_type": "execute_result"
    }
   ],
   "source": [
    "errors = []\n",
    "error_responses = []\n",
    "for iteration, error_dict in failures.items():\n",
    "    errors.append(error_dict[\"error\"])\n",
    "    error_responses.append(error_dict[\"response\"])\n",
    "len(set(errors)), len(set(error_responses))"
   ]
  },
  {
   "cell_type": "code",
   "execution_count": 14,
   "metadata": {},
   "outputs": [
    {
     "data": {
      "text/plain": [
       "{ValueError(\"could not convert string to float: '1/4'\"),\n",
       " ValueError(\"could not convert string to float: '10 13'\"),\n",
       " ValueError(\"could not convert string to float: '12 8 6'\"),\n",
       " ValueError(\"could not convert string to float: '120 200'\"),\n",
       " ValueError(\"could not convert string to float: '1800 3000'\"),\n",
       " ValueError(\"could not convert string to float: '186 + 4x'\"),\n",
       " ValueError(\"could not convert string to float: '25 25 25 25'\"),\n",
       " ValueError(\"could not convert string to float: '4 18'\"),\n",
       " ValueError(\"could not convert string to float: '95\\\\n\\\\n95'\"),\n",
       " ValueError(\"could not convert string to float: '9x + 120'\"),\n",
       " ValueError(\"could not convert string to float: 'K = U + 26  \\\\nK + (U - 17) + U = 411  \\\\nK + 2U - 17 = 411  \\\\nK + 2U = 428  \\\\nSubstituting K = U + 26:  \\\\n(U + 26) + 2U = 428  \\\\n3U + 26 = 428  \\\\n3U = 402  \\\\nU = 134  \\\\nNow'\"),\n",
       " ValueError(\"could not convert string to float: 'Please provide the number of shoes Melissa is repairing.'\"),\n",
       " ValueError(\"could not convert string to float: 'Price per can in cents = (14.50 / 9) * 100 = 161.11. \\\\nSince we need the price in whole cents'\"),\n",
       " ValueError(\"could not convert string to float: 'Response:1'\"),\n",
       " ValueError(\"could not convert string to float: 'Total eggs used = \\\\\\\\( \\\\\\\\frac{2}{5}x + \\\\\\\\frac{1}{2}x + \\\\\\\\left(40 + \\\\\\\\left(\\\\\\\\frac{2}{5}x + \\\\\\\\frac{1}{2}x\\\\\\\\right)\\\\\\\\right) + 2x \\\\\\\\)\\\\n\\\\nTo combine the terms'\"),\n",
       " ValueError(\"could not convert string to float: 'x + 100'\")}"
      ]
     },
     "execution_count": 14,
     "metadata": {},
     "output_type": "execute_result"
    }
   ],
   "source": [
    "set(errors)"
   ]
  },
  {
   "cell_type": "code",
   "execution_count": 15,
   "metadata": {},
   "outputs": [
    {
     "data": {
      "text/plain": [
       "0.2141041081225746"
      ]
     },
     "execution_count": 15,
     "metadata": {},
     "output_type": "execute_result"
    }
   ],
   "source": [
    "100 * len(set(errors)) / len(df)"
   ]
  },
  {
   "cell_type": "markdown",
   "metadata": {},
   "source": [
    "### Python script"
   ]
  },
  {
   "cell_type": "code",
   "execution_count": 16,
   "metadata": {},
   "outputs": [
    {
     "name": "stderr",
     "output_type": "stream",
     "text": [
      "  0%|          | 4/7473 [00:00<03:14, 38.32it/s]"
     ]
    },
    {
     "name": "stdout",
     "output_type": "stream",
     "text": [
      "1.0\n"
     ]
    },
    {
     "name": "stderr",
     "output_type": "stream",
     "text": [
      "  8%|▊         | 611/7473 [00:14<02:26, 46.86it/s]"
     ]
    },
    {
     "name": "stdout",
     "output_type": "stream",
     "text": [
      "# Number of brothers\n",
      "total_brothers = 7\n",
      "\n",
      "# Birthdays in the first half of the year\n",
      "march_birthday = 3\n",
      "# April and May have no birthdays mentioned\n",
      "june_birthday = 0\n",
      "\n",
      "# Total presents to buy in the first half of the year\n",
      "first_half_presents = (march_birthday + april_birthday + june_birthday) * 2  # 2 presents for each brother\n",
      "\n",
      "# Birthdays in the second half of the year\n",
      "october_birthday = 1\n",
      "november_birthday = 1\n",
      "december_birthday = 2\n",
      "\n",
      "# Total presents to buy in the second half of the year\n",
      "second_half_presents = (october_birthday + november_birthday + december_birthday) * 2  # 2 presents for each brother\n",
      "\n",
      "# Calculate the difference\n",
      "result = second_half_presents - first_half_presents\n"
     ]
    },
    {
     "name": "stderr",
     "output_type": "stream",
     "text": [
      " 13%|█▎        | 1006/7473 [00:23<02:20, 45.99it/s]"
     ]
    },
    {
     "name": "stdout",
     "output_type": "stream",
     "text": [
      "0.8771228771228772\n"
     ]
    },
    {
     "name": "stderr",
     "output_type": "stream",
     "text": [
      " 15%|█▌        | 1126/7473 [00:25<02:18, 45.83it/s]"
     ]
    },
    {
     "name": "stdout",
     "output_type": "stream",
     "text": [
      "# Given information\n",
      "phil_wins = 12\n",
      "phil_wins = charlie_wins + 3\n",
      "charlie_wins = dana_wins - 2\n",
      "perry_wins = dana_wins + 5\n",
      "\n",
      "# Calculating the number of games won by each player\n",
      "charlie_wins = phil_wins - 3\n",
      "dana_wins = charlie_wins + 2\n",
      "perry_wins = dana_wins + 5\n",
      "\n",
      "# Calculate how many more games Perry won than Phil\n",
      "result = perry_wins - phil_wins\n"
     ]
    },
    {
     "name": "stderr",
     "output_type": "stream",
     "text": [
      " 23%|██▎       | 1702/7473 [00:38<02:08, 44.75it/s]"
     ]
    },
    {
     "name": "stdout",
     "output_type": "stream",
     "text": [
      "# Given data\n",
      "time_ny_sf = None  # Time taken from New York to San Francisco (unknown)\n",
      "time_no_ny = (3/4) * time_ny_sf  # Time taken from New Orleans to New York\n",
      "time_sf_landing = 24  # Time taken from New York to land in San Francisco\n",
      "time_after_no_landing = 16  # Time taken after landing in New York from New Orleans\n",
      "\n",
      "# We know:\n",
      "# Total time from New Orleans to San Francisco = time_no_ny + time_ny_sf + time_sf_landing\n",
      "# time_no_ny = (3/4) * time_ny_sf\n",
      "# Thus: \n",
      "# total_time = (3/4) * time_ny_sf + time_ny_sf + time_sf_landing\n",
      "\n",
      "# Setting up the equation:\n",
      "# total_time = (3/4) * time_ny_sf + time_ny_sf + 24\n",
      "# total_time = (1 + 3/4) * time_ny_sf + 24\n",
      "# total_time = (7/4) * time_ny_sf + 24\n",
      "\n",
      "# We also know that she lands in San Francisco 24 hours after departing from New York, which includes the time taken from NY to SF.\n",
      "# Therefore:\n",
      "# total_time - 16 = 24\n",
      "\n",
      "# Let's solve for time_ny_sf\n",
      "from sympy import symbols, solve\n",
      "\n",
      "time_ny_sf = symbols('time_ny_sf')\n",
      "total_time_expr = (7/4) * time_ny_sf + 24 - 16\n",
      "time_ny_sf_value = solve(total_time_expr, time_ny_sf)[0]\n",
      "\n",
      "# Now we can calculate the total time from New Orleans to San Francisco\n",
      "total_time = (3/4) * time_ny_sf_value + time_ny_sf_value + time_sf_landing\n",
      "result = total_time\n"
     ]
    },
    {
     "name": "stderr",
     "output_type": "stream",
     "text": [
      " 27%|██▋       | 2008/7473 [00:45<02:00, 45.36it/s]"
     ]
    },
    {
     "name": "stdout",
     "output_type": "stream",
     "text": [
      "0.8860569715142429\n"
     ]
    },
    {
     "name": "stderr",
     "output_type": "stream",
     "text": [
      " 38%|███▊      | 2845/7473 [01:03<01:52, 41.24it/s]"
     ]
    },
    {
     "name": "stdout",
     "output_type": "stream",
     "text": [
      "graham_crackers = 48\n",
      "marshmallows = 6\n",
      "\n",
      "s'mores_possible_with_crackers = graham_crackers // 2\n",
      "s'mores_possible_with_marshmallows = marshmallows\n",
      "\n",
      "s'mores_possible = min(s'mores_possible_with_crackers, s'mores_possible_with_marshmallows)\n",
      "\n",
      "total_marshmallows_needed = s'mores_possible + (s'mores_possible * 1)\n",
      "marshmallows_needed = total_marshmallows_needed - marshmallows\n",
      "\n",
      "result = max(0, marshmallows_needed)\n"
     ]
    },
    {
     "name": "stderr",
     "output_type": "stream",
     "text": [
      " 40%|████      | 3006/7473 [01:07<01:39, 44.69it/s]"
     ]
    },
    {
     "name": "stdout",
     "output_type": "stream",
     "text": [
      "0.8820393202265912\n"
     ]
    },
    {
     "name": "stderr",
     "output_type": "stream",
     "text": [
      " 41%|████      | 3071/7473 [01:09<01:44, 42.10it/s]"
     ]
    },
    {
     "name": "stdout",
     "output_type": "stream",
     "text": [
      "# Given information\n",
      "roger_experience = 50  # Roger's total experience when he retires\n",
      "years_until_retirement = roger_experience\n",
      "\n",
      "# Coworker information\n",
      "peter_experience = 19 - 7  # Peter's experience based on daughter's age\n",
      "mike_experience = None  # Mike's experience to be determined\n",
      "robert_experience = peter_experience - 4  # Robert's experience\n",
      "tom_experience = 2 * robert_experience  # Tom's experience\n",
      "\n",
      "# Roger's experience in relation to others\n",
      "total_experience_of_others = peter_experience + tom_experience + robert_experience + mike_experience\n",
      "roger_experience = total_experience_of_others  # Roger's experience equals the sum of the others\n",
      "\n",
      "# We can solve for Mike's experience now\n",
      "mike_experience = robert_experience - 2\n",
      "\n",
      "# Updating total experience of others\n",
      "total_experience_of_others = peter_experience + tom_experience + robert_experience + mike_experience\n",
      "\n",
      "# Recalculate Roger's experience based on others\n",
      "roger_experience = total_experience_of_others\n",
      "years_until_retirement = 50 - roger_experience\n",
      "\n",
      "result = years_until_retirement\n"
     ]
    },
    {
     "name": "stderr",
     "output_type": "stream",
     "text": [
      " 47%|████▋     | 3483/7473 [01:18<01:30, 43.98it/s]"
     ]
    },
    {
     "name": "stdout",
     "output_type": "stream",
     "text": [
      "# Given data\n",
      "number_of_people = 8\n",
      "s'mores_per_person = 3\n",
      "cost_for_4_s'mores = 3\n",
      "\n",
      "# Total S'mores needed\n",
      "total_s'mores = number_of_people * s'mores_per_person\n",
      "\n",
      "# Cost calculation\n",
      "cost_per_s'more = cost_for_4_s'mores / 4\n",
      "total_cost = total_s'mores * cost_per_s'more\n",
      "\n",
      "result = total_cost\n"
     ]
    },
    {
     "name": "stderr",
     "output_type": "stream",
     "text": [
      " 48%|████▊     | 3576/7473 [01:20<01:35, 40.62it/s]"
     ]
    },
    {
     "name": "stdout",
     "output_type": "stream",
     "text": [
      "# Time taken for each piece of clothing\n",
      "time_b blouse = 15  # minutes\n",
      "time_dress = 20    # minutes\n",
      "\n",
      "# Total time spent on each type of clothing\n",
      "time_spent_blouses = 2 * 60  # converting hours to minutes\n",
      "time_spent_dresses = 3 * 60   # converting hours to minutes\n",
      "\n",
      "# Number of pieces ironed\n",
      "num_blouses = time_spent_blouses // time_blouse\n",
      "num_dresses = time_spent_dresses // time_dress\n",
      "\n",
      "# Total pieces of clothing ironed\n",
      "result = num_blouses + num_dresses\n"
     ]
    },
    {
     "name": "stderr",
     "output_type": "stream",
     "text": [
      " 53%|█████▎    | 3977/7473 [01:30<01:13, 47.43it/s]"
     ]
    },
    {
     "name": "stdout",
     "output_type": "stream",
     "text": [
      "# Let b be the number of brown eggs and w be the number of white eggs.\n",
      "# According to the problem, w = 3 * b\n",
      "# After dropping the basket, she has 12 eggs left and 5 of the brown eggs survived.\n",
      "# Therefore, the number of eggs broken is the total before the accident minus the remaining eggs.\n",
      "\n",
      "# Let b be the number of brown eggs\n",
      "# After the accident:\n",
      "remaining_eggs = 12\n",
      "survived_brown_eggs = 5\n",
      "\n",
      "# Total eggs before the accident\n",
      "total_eggs_before = remaining_eggs + (b - survived_brown_eggs)\n",
      "\n",
      "# Total eggs before the accident can be represented as:\n",
      "# Total eggs = w + b\n",
      "# w = 3 * b\n",
      "# So, total_eggs_before = 3 * b + b = 4 * b\n",
      "\n",
      "# Hence, we can write:\n",
      "# 4 * b = remaining_eggs + (b - survived_brown_eggs)\n",
      "# 4 * b = 12 + (b - 5)\n",
      "\n",
      "# Solving for b\n",
      "from sympy import symbols, Eq, solve\n",
      "\n",
      "b = symbols('b')\n",
      "equation = Eq(4 * b, 12 + (b - 5))\n",
      "solution = solve(equation, b)[0]\n",
      "\n",
      "# Calculate the number of white eggs\n",
      "w = 3 * solution\n",
      "\n",
      "# Total eggs before the accident\n",
      "total_eggs_before = w + solution\n",
      "\n",
      "# Number of eggs broken\n",
      "eggs_broken = total_eggs_before - remaining_eggs\n",
      "result = eggs_broken\n"
     ]
    },
    {
     "name": "stderr",
     "output_type": "stream",
     "text": [
      " 54%|█████▎    | 4010/7473 [01:30<01:09, 49.95it/s]"
     ]
    },
    {
     "name": "stdout",
     "output_type": "stream",
     "text": [
      "0.884028992751812\n"
     ]
    },
    {
     "name": "stderr",
     "output_type": "stream",
     "text": [
      " 67%|██████▋   | 5009/7473 [01:51<00:53, 45.69it/s]"
     ]
    },
    {
     "name": "stdout",
     "output_type": "stream",
     "text": [
      "0.8810237952409518\n"
     ]
    },
    {
     "name": "stderr",
     "output_type": "stream",
     "text": [
      " 79%|███████▉  | 5922/7473 [02:12<00:32, 47.53it/s]"
     ]
    },
    {
     "name": "stdout",
     "output_type": "stream",
     "text": [
      "# Given data\n",
      "total_good_oranges = 55\n",
      "\n",
      "# Tree A details\n",
      "tree_a_percentage = 0.5\n",
      "oranges_per_tree_a = 10\n",
      "good_oranges_percentage_a = 0.6\n",
      "\n",
      "# Tree B details\n",
      "tree_b_percentage = 0.5\n",
      "oranges_per_tree_b = 15\n",
      "good_oranges_percentage_b = 1/3\n",
      "\n",
      "# Let x be the total number of trees\n",
      "# Therefore, trees of type A = 0.5 * x and trees of type B = 0.5 * x\n",
      "\n",
      "# Good oranges from Tree A\n",
      "good_oranges_a = (oranges_per_tree_a * good_oranges_percentage_a) * (tree_a_percentage * x)\n",
      "\n",
      "# Good oranges from Tree B\n",
      "good_oranges_b = (oranges_per_tree_b * good_oranges_percentage_b) * (tree_b_percentage * x)\n",
      "\n",
      "# Total good oranges from both trees\n",
      "total_good_oranges_calculated = good_oranges_a + good_oranges_b\n",
      "\n",
      "# Set up the equation\n",
      "# total_good_oranges_calculated = 55\n",
      "# (10 * 0.6 * 0.5 * x) + (15 * (1/3) * 0.5 * x) = 55\n",
      "\n",
      "from sympy import symbols, Eq, solve\n",
      "\n",
      "x = symbols('x')\n",
      "equation = Eq((10 * 0.6 * 0.5 * x) + (15 * (1/3) * 0.5 * x), total_good_oranges)\n",
      "solution = solve(equation)\n",
      "\n",
      "# Total number of trees\n",
      "total_trees = solution[0]\n",
      "result = total_trees\n"
     ]
    },
    {
     "name": "stderr",
     "output_type": "stream",
     "text": [
      " 80%|████████  | 6009/7473 [02:14<00:31, 46.48it/s]"
     ]
    },
    {
     "name": "stdout",
     "output_type": "stream",
     "text": [
      "0.8818530244959173\n"
     ]
    },
    {
     "name": "stderr",
     "output_type": "stream",
     "text": [
      " 88%|████████▊ | 6552/7473 [02:26<00:21, 43.50it/s]"
     ]
    },
    {
     "name": "stdout",
     "output_type": "stream",
     "text": [
      "# Let x be George's monthly income\n",
      "# He donates half of his income: x / 2\n",
      "# He spends $20 from the other half: (x / 2) - 20\n",
      "# He has $100 left: ((x / 2) - 20) + 100 = (x / 2)\n",
      "\n",
      "from sympy import symbols, Eq, solve\n",
      "\n",
      "x = symbols('x')\n",
      "equation = Eq((x / 2) - 20 + 100, x / 2)\n",
      "solution = solve(equation, x)\n",
      "\n",
      "result = solution[0]\n"
     ]
    },
    {
     "name": "stderr",
     "output_type": "stream",
     "text": [
      " 91%|█████████▏| 6825/7473 [02:32<00:14, 45.20it/s]"
     ]
    },
    {
     "name": "stdout",
     "output_type": "stream",
     "text": [
      "# Constants\n",
      "cost_per_chocolate_bar = 1.50\n",
      "s'mores_per_chocolate_bar = 3\n",
      "scouts = 15\n",
      "s'mores_per_scout = 2\n",
      "\n",
      "# Total s'mores needed\n",
      "total_s'mores_needed = scouts * s'mores_per_scout\n",
      "\n",
      "# Total chocolate bars needed\n",
      "total_chocolate_bars_needed = total_s'mores_needed / s'mores_per_chocolate_bar\n",
      "\n",
      "# Total cost\n",
      "total_cost = total_chocolate_bars_needed * cost_per_chocolate_bar\n",
      "\n",
      "result = total_cost\n"
     ]
    },
    {
     "name": "stderr",
     "output_type": "stream",
     "text": [
      " 94%|█████████▍| 7009/7473 [02:36<00:10, 43.77it/s]"
     ]
    },
    {
     "name": "stdout",
     "output_type": "stream",
     "text": [
      "0.8827310384230824\n"
     ]
    },
    {
     "name": "stderr",
     "output_type": "stream",
     "text": [
      " 97%|█████████▋| 7241/7473 [02:42<00:05, 45.93it/s]"
     ]
    },
    {
     "name": "stdout",
     "output_type": "stream",
     "text": [
      "# Define the age differences\n",
      "jenny_age_difference = 5  # Jenny is 5 years older than Charlie\n",
      "charlie_age_difference = 3  # Charlie is 3 years older than Bobby\n",
      "\n",
      "# Let's denote Bobby's current age as b\n",
      "b = 0  # Assume Bobby's current age is 0 for simplicity\n",
      "\n",
      "# Calculate current ages\n",
      "charlie_age = b + charlie_age_difference\n",
      "jenny_age = charlie_age + jenny_age_difference\n",
      "\n",
      "# We need to find the age at which Jenny is twice Bobby's age\n",
      "# Let x be the number of years until that point\n",
      "# At that time, Jenny's age will be jenny_age + x\n",
      "# Bobby's age will be b + x\n",
      "# We need to solve the equation: jenny_age + x = 2 * (b + x)\n",
      "\n",
      "# Set up the equation\n",
      "from sympy import symbols, Eq, solve\n",
      "\n",
      "x = symbols('x')\n",
      "equation = Eq(jenny_age + x, 2 * (b + x))\n",
      "\n",
      "# Solve for x\n",
      "years_until_jenny_twice_bobby = solve(equation, x)[0]\n",
      "\n",
      "# Calculate Charlie's age at that time\n",
      "charlie_age_when_jenny_twice = charlie_age + years_until_jenny_twice\n",
      "\n",
      "result = charlie_age_when_jenny_twice\n"
     ]
    },
    {
     "name": "stderr",
     "output_type": "stream",
     "text": [
      " 98%|█████████▊| 7321/7473 [02:43<00:03, 38.69it/s]"
     ]
    },
    {
     "name": "stdout",
     "output_type": "stream",
     "text": [
      "potatoes = 15\n",
      "fries_per_potato = 25\n",
      "total_fries_needed = 200\n",
      "\n",
      "total_fries_available = potatoes * fries_per_potato\n",
      "fries_leftover = total_fries_available - total_fries_needed\n",
      "\n",
      "potatoes_used = fries_needed // fries_per_potato + (fries_needed % fries_per_potato > 0)\n",
      "potatoes_leftover = potatoes - potatoes_used\n",
      "\n",
      "result = potatoes_leftover\n"
     ]
    },
    {
     "name": "stderr",
     "output_type": "stream",
     "text": [
      "100%|██████████| 7473/7473 [02:47<00:00, 44.60it/s]\n"
     ]
    }
   ],
   "source": [
    "responses = []\n",
    "failures = {}\n",
    "for i in tqdm(range(len(df))):\n",
    "    question = df.question.iloc[i]\n",
    "    try:\n",
    "        _, response = python_script_sync(question)\n",
    "        if type(response) is tuple:\n",
    "            response = sum(response)\n",
    "    except Exception as e:\n",
    "        failures[i] = {\"error\":e, \"response\":response}\n",
    "        response = None\n",
    "    responses.append(response)\n",
    "    if i % 1000 == 0:\n",
    "        aux = df.iloc[0:len(responses)].copy()\n",
    "        aux[\"python_response\"] = responses\n",
    "        aux[\"check\"] = aux.numeric_response == aux.python_response\n",
    "        print(aux.check.sum()/len(responses))\n",
    "df[\"python_response\"] = responses"
   ]
  },
  {
   "cell_type": "code",
   "execution_count": 17,
   "metadata": {},
   "outputs": [
    {
     "data": {
      "text/plain": [
       "(13, 11)"
      ]
     },
     "execution_count": 17,
     "metadata": {},
     "output_type": "execute_result"
    }
   ],
   "source": [
    "errors = []\n",
    "error_responses = []\n",
    "for iteration, error_dict in failures.items():\n",
    "    errors.append(error_dict[\"error\"])\n",
    "    error_responses.append(error_dict[\"response\"])\n",
    "len(set(errors)), len(set(error_responses))"
   ]
  },
  {
   "cell_type": "code",
   "execution_count": 18,
   "metadata": {},
   "outputs": [
    {
     "data": {
      "text/plain": [
       "{SyntaxError('invalid syntax',\n",
       "             ('<string>', 2, 8, 'time_b blouse = 15  # minutes\\n', 2, 14)),\n",
       " IndexError('list index out of range'),\n",
       " NameError(\"name 'april_birthday' is not defined\"),\n",
       " NameError(\"name 'b' is not defined\"),\n",
       " NameError(\"name 'charlie_wins' is not defined\"),\n",
       " NameError(\"name 'fries_needed' is not defined\"),\n",
       " NameError(\"name 'x' is not defined\"),\n",
       " NameError(\"name 'years_until_jenny_twice' is not defined\"),\n",
       " TypeError(\"unsupported operand type(s) for *: 'float' and 'NoneType'\"),\n",
       " TypeError(\"unsupported operand type(s) for +: 'int' and 'NoneType'\"),\n",
       " SyntaxError('unterminated string literal (detected at line 3)',\n",
       "             ('<string>', 3, 2, \"s'mores_per_person = 3\", 3, 2)),\n",
       " SyntaxError('unterminated string literal (detected at line 3)',\n",
       "             ('<string>', 3, 2, \"s'mores_per_chocolate_bar = 3\", 3, 2)),\n",
       " SyntaxError('unterminated string literal (detected at line 4)',\n",
       "             ('<string>',\n",
       "              4,\n",
       "              2,\n",
       "              \"s'mores_possible_with_crackers = graham_crackers // 2\",\n",
       "              4,\n",
       "              2))}"
      ]
     },
     "execution_count": 18,
     "metadata": {},
     "output_type": "execute_result"
    }
   ],
   "source": [
    "set(errors)"
   ]
  },
  {
   "cell_type": "code",
   "execution_count": 19,
   "metadata": {},
   "outputs": [
    {
     "data": {
      "text/plain": [
       "0.17395958784959187"
      ]
     },
     "execution_count": 19,
     "metadata": {},
     "output_type": "execute_result"
    }
   ],
   "source": [
    "100 * len(set(errors)) / len(df)"
   ]
  },
  {
   "cell_type": "markdown",
   "metadata": {},
   "source": [
    "# Benchmark"
   ]
  },
  {
   "cell_type": "code",
   "execution_count": 20,
   "metadata": {},
   "outputs": [
    {
     "name": "stdout",
     "output_type": "stream",
     "text": [
      "llm accuracy: 92.49\n",
      "CoT accuracy: 80.28\n",
      "python accuracy: 88.21\n"
     ]
    }
   ],
   "source": [
    "for col in [\"llm_response\", \"CoT_response\", \"python_response\"]:\n",
    "    df[f\"check_{col}\"] = df[col] == df[\"numeric_response\"]\n",
    "    acc = round(100 * df[f'check_{col}'].sum() / len(df), 2)\n",
    "    print(f\"{col.split('_')[0]} accuracy: {acc}\")"
   ]
  },
  {
   "cell_type": "code",
   "execution_count": null,
   "metadata": {},
   "outputs": [],
   "source": []
  }
 ],
 "metadata": {
  "kernelspec": {
   "display_name": ".venv",
   "language": "python",
   "name": "python3"
  },
  "language_info": {
   "codemirror_mode": {
    "name": "ipython",
    "version": 3
   },
   "file_extension": ".py",
   "mimetype": "text/x-python",
   "name": "python",
   "nbconvert_exporter": "python",
   "pygments_lexer": "ipython3",
   "version": "3.10.7"
  }
 },
 "nbformat": 4,
 "nbformat_minor": 2
}
