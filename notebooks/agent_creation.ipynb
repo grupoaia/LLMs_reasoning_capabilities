{
 "cells": [
  {
   "cell_type": "code",
   "execution_count": 1,
   "metadata": {},
   "outputs": [],
   "source": [
    "%load_ext autoreload\n",
    "%autoreload 2"
   ]
  },
  {
   "cell_type": "code",
   "execution_count": 2,
   "metadata": {},
   "outputs": [],
   "source": [
    "import os\n",
    "import numpy as np\n",
    "import pandas as pd\n",
    "from tqdm import tqdm\n",
    "from langchain_openai import ChatOpenAI\n",
    "from langchain.cache import SQLiteCache\n",
    "from langchain.globals import set_llm_cache\n",
    "from langchain_core.messages import HumanMessage"
   ]
  },
  {
   "cell_type": "code",
   "execution_count": null,
   "metadata": {},
   "outputs": [],
   "source": [
    "os.chdir(\"..\")"
   ]
  },
  {
   "cell_type": "code",
   "execution_count": 3,
   "metadata": {},
   "outputs": [],
   "source": [
    "from src.agent import Agent\n",
    "from src.tools import python_script, problem_solver\n",
    "from src.prompts import TASK_IDENTIFIER_PROMPT, TASK_SOLVER_PROMPT"
   ]
  },
  {
   "cell_type": "code",
   "execution_count": 4,
   "metadata": {},
   "outputs": [],
   "source": [
    "question = \"\"\"\n",
    "Kylar went to the store to buy glasses for his new apartment. One glass costs $5, but every second glass\\\n",
    "costs only 60% of the price. Kylar wants to buy 16 glasses. How much does he need to pay for them?\n",
    "\"\"\".strip()"
   ]
  },
  {
   "cell_type": "markdown",
   "metadata": {},
   "source": [
    "## Problem breakdown"
   ]
  },
  {
   "cell_type": "code",
   "execution_count": 5,
   "metadata": {},
   "outputs": [
    {
     "data": {
      "text/plain": [
       "['Determine the cost of the first glass',\n",
       " 'Calculate the cost of every second glass',\n",
       " 'Calculate the total number of first glasses and second glasses',\n",
       " 'Calculate the total cost for first glasses',\n",
       " 'Calculate the total cost for second glasses',\n",
       " 'Add the total cost of first glasses and second glasses to find the final amount Kylar needs to pay.']"
      ]
     },
     "execution_count": 5,
     "metadata": {},
     "output_type": "execute_result"
    }
   ],
   "source": [
    "llm = ChatOpenAI(model=\"gpt-4o-mini\")\n",
    "chain = TASK_IDENTIFIER_PROMPT | llm\n",
    "response = chain.invoke({\"problem\":question})\n",
    "tasks = [r.strip() for r in response.content.split(\",\")]\n",
    "tasks"
   ]
  },
  {
   "cell_type": "code",
   "execution_count": 6,
   "metadata": {},
   "outputs": [
    {
     "name": "stdout",
     "output_type": "stream",
     "text": [
      "Determine the cost of the first glass: The cost of the first glass is $5.\n",
      "\n",
      "--------------------------------------------------\n",
      "Determine the cost of the first glass: The cost of the first glass is $5.\n",
      " Calculate the cost of every second glass: The cost of every second glass is $3.\n",
      "\n",
      "--------------------------------------------------\n",
      "Determine the cost of the first glass: The cost of the first glass is $5.\n",
      " Calculate the cost of every second glass: The cost of every second glass is $3.\n",
      " Calculate the total number of first glasses and second glasses: The total number of first glasses is 8, and the total number of second glasses is 8.\n",
      "\n",
      "--------------------------------------------------\n",
      "Determine the cost of the first glass: The cost of the first glass is $5.\n",
      " Calculate the cost of every second glass: The cost of every second glass is $3.\n",
      " Calculate the total number of first glasses and second glasses: The total number of first glasses is 8, and the total number of second glasses is 8.\n",
      " Calculate the total cost for first glasses: The total cost for the first glasses is $40.\n",
      "\n",
      "--------------------------------------------------\n",
      "Determine the cost of the first glass: The cost of the first glass is $5.\n",
      " Calculate the cost of every second glass: The cost of every second glass is $3.\n",
      " Calculate the total number of first glasses and second glasses: The total number of first glasses is 8, and the total number of second glasses is 8.\n",
      " Calculate the total cost for first glasses: The total cost for the first glasses is $40.\n",
      " Calculate the total cost for second glasses: The total cost for second glasses is $24.\n",
      "\n",
      "--------------------------------------------------\n",
      "Determine the cost of the first glass: The cost of the first glass is $5.\n",
      " Calculate the cost of every second glass: The cost of every second glass is $3.\n",
      " Calculate the total number of first glasses and second glasses: The total number of first glasses is 8, and the total number of second glasses is 8.\n",
      " Calculate the total cost for first glasses: The total cost for the first glasses is $40.\n",
      " Calculate the total cost for second glasses: The total cost for second glasses is $24.\n",
      " Add the total cost of first glasses and second glasses to find the final amount Kylar needs to pay.: Final amount Kylar needs to pay is $64.\n",
      "\n",
      "--------------------------------------------------\n"
     ]
    }
   ],
   "source": [
    "llm = ChatOpenAI(model=\"gpt-4o-mini\")\n",
    "chain = TASK_SOLVER_PROMPT | llm\n",
    "\n",
    "status=\"\"\n",
    "for task in response.content.split(\",\"):\n",
    "    response = chain.invoke({\"problem\":question, \"task\":task, \"status\":status}).content\n",
    "    status += f\"{task}: {response}\\n\"\n",
    "    print(status)\n",
    "    print(\"-\"*50)"
   ]
  },
  {
   "cell_type": "markdown",
   "metadata": {},
   "source": [
    "## Agent"
   ]
  },
  {
   "cell_type": "code",
   "execution_count": 5,
   "metadata": {},
   "outputs": [],
   "source": [
    "tools = [python_script, problem_solver]\n",
    "agent = Agent(tools)\n",
    "\n",
    "await agent.init_graph()"
   ]
  },
  {
   "cell_type": "code",
   "execution_count": 6,
   "metadata": {},
   "outputs": [],
   "source": [
    "messages = [HumanMessage(content=\"Hey, how are you doing?\")]"
   ]
  },
  {
   "cell_type": "code",
   "execution_count": 7,
   "metadata": {},
   "outputs": [
    {
     "name": "stdout",
     "output_type": "stream",
     "text": [
      "--------------------------------------------------\n",
      "¡Hola! Estoy aquí para ayudarte. ¿En qué puedo asistirte hoy?\n"
     ]
    }
   ],
   "source": [
    "thread = {\"configurable\": {\"thread_id\": \"1\"}}\n",
    "response = await agent.graph.ainvoke({\"messages\": messages}, config={\"configurable\": {\"thread_id\": 1, \"recursion_limit\": 5}})\n",
    "print(\"-\"*50)\n",
    "print(response[\"messages\"][-1].content)"
   ]
  },
  {
   "cell_type": "code",
   "execution_count": 8,
   "metadata": {},
   "outputs": [
    {
     "name": "stdout",
     "output_type": "stream",
     "text": [
      "Calling: {'name': 'problem_solver', 'args': {'question': 'Kylar wants to buy 16 glasses. The first glass costs $5, and every second glass costs only 60% of the price. How much does he need to pay for 16 glasses?'}, 'id': 'call_1lsvQKGiWsfrl4S0Rl1Xss0M', 'type': 'tool_call'}\n",
      "Back to the model!\n",
      "--------------------------------------------------\n",
      "Kylar necesita pagar un total de **$64** por las 16 copas. \n",
      "\n",
      "La distribución del costo es la siguiente:\n",
      "- 8 copas a $5 cada una: \\(8 \\times 5 = 40\\)\n",
      "- 8 copas a $3 cada una (60% del precio): \\(8 \\times 3 = 24\\)\n",
      "\n",
      "Sumando ambos costos, \\(40 + 24 = 64\\). \n",
      "\n",
      "Si tienes más preguntas o necesitas ayuda con algo más, ¡dímelo!\n"
     ]
    }
   ],
   "source": [
    "messages = [HumanMessage(content=f\"I have a problem that I would like to solve.\\nProblem:{question}\")]\n",
    "response = await agent.graph.ainvoke({\"messages\": messages}, config={\"configurable\": {\"thread_id\": 1, \"recursion_limit\": 5}})\n",
    "print(\"-\"*50)\n",
    "print(response[\"messages\"][-1].content)"
   ]
  },
  {
   "cell_type": "code",
   "execution_count": null,
   "metadata": {},
   "outputs": [],
   "source": []
  }
 ],
 "metadata": {
  "kernelspec": {
   "display_name": ".venv",
   "language": "python",
   "name": "python3"
  },
  "language_info": {
   "codemirror_mode": {
    "name": "ipython",
    "version": 3
   },
   "file_extension": ".py",
   "mimetype": "text/x-python",
   "name": "python",
   "nbconvert_exporter": "python",
   "pygments_lexer": "ipython3",
   "version": "3.10.7"
  }
 },
 "nbformat": 4,
 "nbformat_minor": 2
}
